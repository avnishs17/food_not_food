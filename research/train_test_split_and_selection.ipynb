{
 "cells": [
  {
   "cell_type": "code",
   "execution_count": 54,
   "metadata": {},
   "outputs": [],
   "source": [
    "import os\n",
    "import shutil\n",
    "import random"
   ]
  },
  {
   "cell_type": "code",
   "execution_count": 41,
   "metadata": {},
   "outputs": [],
   "source": [
    "def create_directory_structure(base_dir):\n",
    "    \"\"\"Create the required directory structure.\"\"\"\n",
    "    for subdir in ['train/food', 'train/not_food', 'test/food', 'test/not_food']:\n",
    "        os.makedirs(os.path.join(base_dir, subdir), exist_ok=True)"
   ]
  },
  {
   "cell_type": "code",
   "execution_count": 42,
   "metadata": {},
   "outputs": [],
   "source": [
    "def copy_images(source_dir, dest_dir, split_ratio, num_images_per_class, num_classes, label):\n",
    "    \"\"\"Copy images from source directory to destination directory with the given split ratio.\"\"\"\n",
    "    class_names = os.listdir(source_dir)\n",
    "    random.shuffle(class_names)\n",
    "    \n",
    "    selected_classes = class_names[:num_classes]  # Select a specific number of classes\n",
    "    \n",
    "    for class_name in selected_classes:\n",
    "        class_path = os.path.join(source_dir, class_name)\n",
    "        if os.path.isdir(class_path):\n",
    "            images = os.listdir(class_path)\n",
    "            random.shuffle(images)\n",
    "            \n",
    "            # Limit to num_images_per_class for testing\n",
    "            images = images[:num_images_per_class]\n",
    "\n",
    "            split_index = int(len(images) * split_ratio)\n",
    "            train_images = images[:split_index]\n",
    "            test_images = images[split_index:]\n",
    "\n",
    "            # Copy train images\n",
    "            train_class_dir = os.path.join(dest_dir, 'train', label, class_name)\n",
    "            os.makedirs(train_class_dir, exist_ok=True)\n",
    "            for img in train_images:\n",
    "                try:\n",
    "                    shutil.copy(os.path.join(class_path, img), train_class_dir)\n",
    "                    print(f\"Copied {os.path.join(class_path, img)} to {train_class_dir}\")\n",
    "                except PermissionError as e:\n",
    "                    print(f\"Permission denied: {e}\")\n",
    "\n",
    "            # Copy test images\n",
    "            test_class_dir = os.path.join(dest_dir, 'test', label, class_name)\n",
    "            os.makedirs(test_class_dir, exist_ok=True)\n",
    "            for img in test_images:\n",
    "                try:\n",
    "                    shutil.copy(os.path.join(class_path, img), test_class_dir)\n",
    "                    print(f\"Copied {os.path.join(class_path, img)} to {test_class_dir}\")\n",
    "                except PermissionError as e:\n",
    "                    print(f\"Permission denied: {e}\")"
   ]
  },
  {
   "cell_type": "code",
   "execution_count": 49,
   "metadata": {},
   "outputs": [],
   "source": [
    "base_dir = 'data'"
   ]
  },
  {
   "cell_type": "code",
   "execution_count": 50,
   "metadata": {},
   "outputs": [],
   "source": [
    "create_directory_structure(base_dir)"
   ]
  },
  {
   "cell_type": "code",
   "execution_count": 51,
   "metadata": {},
   "outputs": [],
   "source": [
    "food_dirs = ['food-101/images', 'imagenet_food_images']\n",
    "not_food_dir = 'imagenet_not_food_images'\n",
    "    \n",
    "split_ratio = 0.85\n",
    "num_images_per_class = 50  # For testing, you can adjust this number as needed\n",
    "num_classes = 140  # Number of classes to copy"
   ]
  },
  {
   "cell_type": "code",
   "execution_count": null,
   "metadata": {},
   "outputs": [],
   "source": [
    "for food_dir in food_dirs:\n",
    "    copy_images(food_dir, base_dir, split_ratio, num_images_per_class, num_classes, 'food')"
   ]
  },
  {
   "cell_type": "code",
   "execution_count": null,
   "metadata": {},
   "outputs": [],
   "source": [
    "copy_images(not_food_dir, base_dir, split_ratio, num_images_per_class, num_classes, 'not_food')"
   ]
  },
  {
   "cell_type": "code",
   "execution_count": null,
   "metadata": {},
   "outputs": [],
   "source": []
  }
 ],
 "metadata": {
  "kernelspec": {
   "display_name": "Python 3",
   "language": "python",
   "name": "python3"
  },
  "language_info": {
   "codemirror_mode": {
    "name": "ipython",
    "version": 3
   },
   "file_extension": ".py",
   "mimetype": "text/x-python",
   "name": "python",
   "nbconvert_exporter": "python",
   "pygments_lexer": "ipython3",
   "version": "3.8.19"
  }
 },
 "nbformat": 4,
 "nbformat_minor": 2
}
